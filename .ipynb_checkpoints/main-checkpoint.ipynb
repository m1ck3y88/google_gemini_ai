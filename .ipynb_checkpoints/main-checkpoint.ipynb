{
 "cells": [
  {
   "cell_type": "code",
   "execution_count": null,
   "id": "f41803c6",
   "metadata": {
    "ExecuteTime": {
     "end_time": "2024-07-28T15:53:04.772314Z",
     "start_time": "2024-07-28T15:53:04.750398Z"
    }
   },
   "outputs": [],
   "source": [
    "from env.api_key import api_key\n",
    "import google.generativeai as genai"
   ]
  },
  {
   "cell_type": "code",
   "execution_count": null,
   "id": "4b241ca0",
   "metadata": {
    "ExecuteTime": {
     "end_time": "2024-07-28T15:53:05.685052Z",
     "start_time": "2024-07-28T15:53:05.666136Z"
    }
   },
   "outputs": [],
   "source": [
    "genai.configure(api_key=api_key)"
   ]
  },
  {
   "cell_type": "code",
   "execution_count": null,
   "id": "289dc551",
   "metadata": {
    "ExecuteTime": {
     "end_time": "2024-07-28T17:30:48.389412Z",
     "start_time": "2024-07-28T17:30:48.384472Z"
    }
   },
   "outputs": [],
   "source": [
    "for model in genai.list_models():\n",
    "    # print(model.name)\n",
    "    with open('model_list.txt', 'a') as file:\n",
    "        file.write(model + '\\n')\n",
    "    "
   ]
  },
  {
   "cell_type": "code",
   "execution_count": null,
   "id": "34fb849f",
   "metadata": {
    "ExecuteTime": {
     "end_time": "2024-07-28T15:53:09.079601Z",
     "start_time": "2024-07-28T15:53:09.072669Z"
    }
   },
   "outputs": [],
   "source": [
    "model = genai.GenerativeModel('gemini-1.5-flash')"
   ]
  },
  {
   "cell_type": "code",
   "execution_count": null,
   "id": "abf2d1e046f58d8b",
   "metadata": {
    "ExecuteTime": {
     "end_time": "2024-07-28T00:45:17.091982Z",
     "start_time": "2024-07-28T00:45:17.087764Z"
    }
   },
   "outputs": [],
   "source": [
    "prompt = 'Are you smarter than Jarvis from the Marvel Cinematic Universe?'"
   ]
  },
  {
   "cell_type": "code",
   "execution_count": null,
   "id": "395355a5bee5381",
   "metadata": {},
   "outputs": [],
   "source": [
    "response = model.generate_content(prompt)"
   ]
  },
  {
   "cell_type": "code",
   "execution_count": null,
   "id": "7c9db255bb23705c",
   "metadata": {
    "ExecuteTime": {
     "end_time": "2024-07-28T00:45:21.549718Z",
     "start_time": "2024-07-28T00:45:21.543908Z"
    }
   },
   "outputs": [],
   "source": [
    "print(response.text)"
   ]
  },
  {
   "cell_type": "code",
   "execution_count": null,
   "id": "1b8f2d1bd8bca8f9",
   "metadata": {},
   "outputs": [],
   "source": []
  }
 ],
 "metadata": {
  "kernelspec": {
   "display_name": "Python 3 (ipykernel)",
   "language": "python",
   "name": "python3"
  },
  "language_info": {
   "codemirror_mode": {
    "name": "ipython",
    "version": 3
   },
   "file_extension": ".py",
   "mimetype": "text/x-python",
   "name": "python",
   "nbconvert_exporter": "python",
   "pygments_lexer": "ipython3",
   "version": "3.11.5"
  }
 },
 "nbformat": 4,
 "nbformat_minor": 5
}
