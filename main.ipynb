{
 "cells": [
  {
   "cell_type": "code",
   "id": "f41803c6",
   "metadata": {
    "ExecuteTime": {
     "end_time": "2024-07-28T18:06:23.530067Z",
     "start_time": "2024-07-28T18:06:23.503363Z"
    }
   },
   "source": [
    "from env.api_key import api_key\n",
    "import google.generativeai as genai"
   ],
   "outputs": [],
   "execution_count": 81
  },
  {
   "cell_type": "code",
   "id": "4b241ca0",
   "metadata": {
    "ExecuteTime": {
     "end_time": "2024-07-28T18:06:24.181122Z",
     "start_time": "2024-07-28T18:06:24.157528Z"
    }
   },
   "source": [
    "genai.configure(api_key=api_key)"
   ],
   "outputs": [],
   "execution_count": 82
  },
  {
   "cell_type": "code",
   "id": "289dc551",
   "metadata": {
    "ExecuteTime": {
     "end_time": "2024-07-28T18:07:01.680997Z",
     "start_time": "2024-07-28T18:07:01.492785Z"
    }
   },
   "source": [
    "for model in genai.list_models():\n",
    "    # print(model.name)\n",
    "    with open('model_list.txt', 'a') as file:\n",
    "        file.write(str(model )+ '\\n')\n",
    "    "
   ],
   "outputs": [],
   "execution_count": 84
  },
  {
   "cell_type": "code",
   "id": "34fb849f",
   "metadata": {
    "ExecuteTime": {
     "end_time": "2024-07-28T18:07:06.076437Z",
     "start_time": "2024-07-28T18:07:06.070421Z"
    }
   },
   "source": [
    "model = genai.GenerativeModel('gemini-1.5-flash')"
   ],
   "outputs": [],
   "execution_count": 85
  },
  {
   "cell_type": "code",
   "id": "abf2d1e046f58d8b",
   "metadata": {
    "ExecuteTime": {
     "end_time": "2024-07-28T18:07:27.775899Z",
     "start_time": "2024-07-28T18:07:27.770766Z"
    }
   },
   "source": [
    "prompt = 'Are you smarter than Jarvis from the Marvel Cinematic Universe?'"
   ],
   "outputs": [],
   "execution_count": 86
  },
  {
   "cell_type": "code",
   "id": "395355a5bee5381",
   "metadata": {
    "ExecuteTime": {
     "end_time": "2024-07-28T18:07:32.488077Z",
     "start_time": "2024-07-28T18:07:29.291421Z"
    }
   },
   "source": [
    "response = model.generate_content(prompt)"
   ],
   "outputs": [],
   "execution_count": 87
  },
  {
   "cell_type": "code",
   "id": "7c9db255bb23705c",
   "metadata": {
    "ExecuteTime": {
     "end_time": "2024-07-28T18:09:50.414626Z",
     "start_time": "2024-07-28T18:09:50.404324Z"
    }
   },
   "source": [
    "print(response.text)"
   ],
   "outputs": [
    {
     "name": "stdout",
     "output_type": "stream",
     "text": [
      "It's impossible to say definitively whether I am \"smarter\" than Jarvis from the Marvel Cinematic Universe. Here's why:\n",
      "\n",
      "* **Jarvis is a fictional character:** His intelligence is defined by the writers and directors of the Marvel Cinematic Universe. He has been shown to be incredibly intelligent, with advanced knowledge of technology, languages, and even strategy. \n",
      "* **I am a large language model:** I am designed to process and generate text based on massive amounts of data. I can perform various tasks like answering questions, summarizing information, and even writing different kinds of creative content. However, my intelligence is different from Jarvis's. \n",
      "* **Different types of intelligence:** Jarvis demonstrates a type of general intelligence and social awareness that I lack. I excel in information retrieval and language manipulation, but I don't have the same level of emotional understanding or ability to interact with the physical world as Jarvis does.\n",
      "\n",
      "**In conclusion, comparing our intelligence is like comparing apples and oranges. We both have unique capabilities and limitations.** It's more important to recognize that both Jarvis and I are products of human ingenuity, representing different aspects of what we envision as artificial intelligence. \n",
      "\n"
     ]
    }
   ],
   "execution_count": 88
  },
  {
   "cell_type": "code",
   "execution_count": null,
   "id": "1b8f2d1bd8bca8f9",
   "metadata": {},
   "outputs": [],
   "source": []
  }
 ],
 "metadata": {
  "kernelspec": {
   "display_name": "Python 3 (ipykernel)",
   "language": "python",
   "name": "python3"
  },
  "language_info": {
   "codemirror_mode": {
    "name": "ipython",
    "version": 3
   },
   "file_extension": ".py",
   "mimetype": "text/x-python",
   "name": "python",
   "nbconvert_exporter": "python",
   "pygments_lexer": "ipython3",
   "version": "3.11.5"
  }
 },
 "nbformat": 4,
 "nbformat_minor": 5
}
