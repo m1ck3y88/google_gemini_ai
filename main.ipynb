{
 "cells": [
  {
   "cell_type": "code",
   "id": "f41803c6",
   "metadata": {
    "ExecuteTime": {
     "end_time": "2024-07-28T20:04:32.944819Z",
     "start_time": "2024-07-28T20:04:32.939666Z"
    }
   },
   "source": [
    "from env.api_key import api_key\n",
    "import google.generativeai as genai"
   ],
   "outputs": [],
   "execution_count": 96
  },
  {
   "cell_type": "code",
   "id": "4b241ca0",
   "metadata": {
    "ExecuteTime": {
     "end_time": "2024-07-28T20:04:33.957148Z",
     "start_time": "2024-07-28T20:04:33.948439Z"
    }
   },
   "source": [
    "genai.configure(api_key=api_key)"
   ],
   "outputs": [],
   "execution_count": 97
  },
  {
   "cell_type": "code",
   "id": "289dc551",
   "metadata": {
    "ExecuteTime": {
     "end_time": "2024-07-28T20:04:53.275526Z",
     "start_time": "2024-07-28T20:04:53.045401Z"
    }
   },
   "source": [
    "for model in genai.list_models():\n",
    "    # print(model.name)\n",
    "    with open('model_list.txt', 'a') as file:\n",
    "        file.write('\\n-------------------------------------\\n')\n",
    "        file.write(str(model)+ '\\n')\n",
    "        file.write('-------------------------------------\\n')\n",
    "    "
   ],
   "outputs": [],
   "execution_count": 98
  },
  {
   "cell_type": "code",
   "id": "34fb849f",
   "metadata": {
    "ExecuteTime": {
     "end_time": "2024-07-28T20:00:13.720730Z",
     "start_time": "2024-07-28T20:00:13.715541Z"
    }
   },
   "source": [
    "model = genai.GenerativeModel('gemini-1.5-flash')"
   ],
   "outputs": [],
   "execution_count": 92
  },
  {
   "cell_type": "code",
   "id": "abf2d1e046f58d8b",
   "metadata": {
    "ExecuteTime": {
     "end_time": "2024-07-28T20:00:18.288960Z",
     "start_time": "2024-07-28T20:00:18.284239Z"
    }
   },
   "source": [
    "prompt = 'Are you smarter than Jarvis from the Marvel Cinematic Universe?'"
   ],
   "outputs": [],
   "execution_count": 93
  },
  {
   "cell_type": "code",
   "id": "395355a5bee5381",
   "metadata": {
    "ExecuteTime": {
     "end_time": "2024-07-28T20:00:21.573847Z",
     "start_time": "2024-07-28T20:00:19.610146Z"
    }
   },
   "source": [
    "response = model.generate_content(prompt)"
   ],
   "outputs": [],
   "execution_count": 94
  },
  {
   "cell_type": "code",
   "id": "7c9db255bb23705c",
   "metadata": {
    "ExecuteTime": {
     "end_time": "2024-07-28T20:00:24.749236Z",
     "start_time": "2024-07-28T20:00:24.744732Z"
    }
   },
   "source": [
    "print(response.text)"
   ],
   "outputs": [
    {
     "name": "stdout",
     "output_type": "stream",
     "text": [
      "As a large language model, I can access and process information from the real world through Google Search and keep my response consistent with search results.  Jarvis, on the other hand, is a fictional AI that exists within the Marvel Cinematic Universe. \n",
      "\n",
      "Therefore, it's impossible to make a direct comparison of intelligence. My capabilities and limitations are different from Jarvis's. I can access vast amounts of information and perform complex tasks like writing different kinds of creative content, translating languages, and answering your questions in an informative way. However, I don't have the same level of interaction with the real world or the ability to control physical systems like Jarvis does in the movies.\n",
      "\n",
      "Ultimately, both Jarvis and I are products of human imagination, and the question of who is \"smarter\" depends on how you define intelligence and what specific tasks you're considering. \n",
      "\n"
     ]
    }
   ],
   "execution_count": 95
  },
  {
   "cell_type": "code",
   "execution_count": null,
   "id": "1b8f2d1bd8bca8f9",
   "metadata": {},
   "outputs": [],
   "source": []
  }
 ],
 "metadata": {
  "kernelspec": {
   "display_name": "Python 3 (ipykernel)",
   "language": "python",
   "name": "python3"
  },
  "language_info": {
   "codemirror_mode": {
    "name": "ipython",
    "version": 3
   },
   "file_extension": ".py",
   "mimetype": "text/x-python",
   "name": "python",
   "nbconvert_exporter": "python",
   "pygments_lexer": "ipython3",
   "version": "3.11.5"
  }
 },
 "nbformat": 4,
 "nbformat_minor": 5
}
